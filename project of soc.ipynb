{
 "cells": [
  {
   "cell_type": "code",
   "execution_count": 1,
   "id": "4c24eba1",
   "metadata": {},
   "outputs": [
    {
     "name": "stdout",
     "output_type": "stream",
     "text": [
      "The status code is 200\n"
     ]
    }
   ],
   "source": [
    "from bs4 import BeautifulSoup\n",
    "import requests\n",
    "headers = {'user-agent': 'Mozilla/5.0 (Macintosh; Intel Mac OS X 10.9; rv:32.0) Gecko/20100101 Firefox/32.0'}\n",
    "url=\"https://www.vcsdata.com/hospitals-healthcare-in-india.html\"\n",
    "\n",
    "response=requests.get(url,headers=headers)\n",
    "print('The status code is',response.status_code)"
   ]
  },
  {
   "cell_type": "code",
   "execution_count": 2,
   "id": "41e54939",
   "metadata": {},
   "outputs": [
    {
     "name": "stdout",
     "output_type": "stream",
     "text": [
      "\n",
      "<!doctype html>\n",
      "<html lang=\"en\">\n",
      "<head>\n",
      "<!-- META DATA -->\n",
      "\n",
      "\n",
      "<meta charset=\"UTF-8\">\n",
      "<meta name='vie\n"
     ]
    }
   ],
   "source": [
    "print(response.text[:100])"
   ]
  },
  {
   "cell_type": "code",
   "execution_count": 3,
   "id": "d2880aeb",
   "metadata": {},
   "outputs": [
    {
     "name": "stdout",
     "output_type": "stream",
     "text": [
      "\n"
     ]
    }
   ],
   "source": [
    "soup=BeautifulSoup(response.text,'html.parser')\n",
    "print(soup.find('title').text)"
   ]
  },
  {
   "cell_type": "code",
   "execution_count": 4,
   "id": "67ef445e",
   "metadata": {},
   "outputs": [
    {
     "name": "stdout",
     "output_type": "stream",
     "text": [
      "<span class=\"smllogo\"><a class=\"d-flex logo-height logo-svg\" href=\"https://www.vcsdata.com/\">\n",
      "<img alt=\"Vcsdata\" height=\"40\" loading=\"lazy\" src=\"https://keycdn-14bd4.kxcdn.com/assets/images/brand/logo2.png\" title=\"Vcsdata.com\" width=\"152\"/></a>\n",
      "</span>\n"
     ]
    }
   ],
   "source": [
    "c=soup.find(class_='smllogo')\n",
    "print(c)"
   ]
  },
  {
   "cell_type": "code",
   "execution_count": 5,
   "id": "70d3deff",
   "metadata": {},
   "outputs": [
    {
     "name": "stdout",
     "output_type": "stream",
     "text": [
      "<img alt=\"Vcsdata\" height=\"40\" loading=\"lazy\" src=\"https://keycdn-14bd4.kxcdn.com/assets/images/brand/logo2.png\" title=\"Vcsdata.com\" width=\"152\"/>\n"
     ]
    }
   ],
   "source": [
    "t=c.find('img')\n",
    "print(t)"
   ]
  },
  {
   "cell_type": "code",
   "execution_count": 6,
   "id": "1b1ba25e",
   "metadata": {},
   "outputs": [
    {
     "name": "stdout",
     "output_type": "stream",
     "text": [
      "[<img alt=\"Vcsdata\" height=\"40\" loading=\"lazy\" src=\"https://keycdn-14bd4.kxcdn.com/assets/images/brand/logo2.png\" title=\"Vcsdata.com\" width=\"152\"/>, <img alt=\"Vcsdata\" class=\"lazyload\" height=\"40\" loading=\"lazy\" src=\"https://keycdn-14bd4.kxcdn.com/assets/images/brand/logo1.png\" title=\"Vcsdata.com\" width=\"152\"/>, <img alt=\"Vcsdata\" class=\"lazyload\" height=\"40\" loading=\"lazy\" src=\"https://keycdn-14bd4.kxcdn.com/assets/images/brand/logo2.png\" title=\"Vcsdata.com\" width=\"152\"/>]\n"
     ]
    }
   ],
   "source": [
    "t=soup.find_all(\"img\")\n",
    "print(t)"
   ]
  },
  {
   "cell_type": "code",
   "execution_count": 7,
   "id": "3f90de2e",
   "metadata": {},
   "outputs": [
    {
     "name": "stdout",
     "output_type": "stream",
     "text": [
      "Vcsdata.com\n"
     ]
    }
   ],
   "source": [
    "for i in soup.find_all(\"img\"):\n",
    "    e=i.get('title')\n",
    "print(e)"
   ]
  },
  {
   "cell_type": "code",
   "execution_count": 8,
   "id": "1124828a",
   "metadata": {},
   "outputs": [
    {
     "name": "stdout",
     "output_type": "stream",
     "text": [
      "[<div class=\"innertitle\">\n",
      "<a class=\"text-darker\" href=\"https://www.vcsdata.com/company/step-in-physiotherapy/137479.html\" target=\"_blank\"><h3 class=\"font-weight-semibold mt-1 mb-1\" itemprop=\"name\">STEP IN PHYSIOTHERAPY \n",
      "</h3></a></div>, <div class=\"innertitle\">\n",
      "<a class=\"text-darker\" href=\"https://www.vcsdata.com/company/royal-massage-services/137475.html\" target=\"_blank\"><h3 class=\"font-weight-semibold mt-1 mb-1\" itemprop=\"name\">Royal Massage Services \n",
      "</h3></a></div>, <div class=\"innertitle\">\n",
      "<a class=\"text-darker\" href=\"https://www.vcsdata.com/company/lifeberries-dental-clinic/137459.html\" target=\"_blank\"><h3 class=\"font-weight-semibold mt-1 mb-1\" itemprop=\"name\">Lifeberries Dental Clinic \n",
      "</h3></a></div>, <div class=\"innertitle\">\n",
      "<a class=\"text-darker\" href=\"https://www.vcsdata.com/company/tulasi-healthcare/137435.html\" target=\"_blank\"><h3 class=\"font-weight-semibold mt-1 mb-1\" itemprop=\"name\">Tulasi Healthcare \n",
      "</h3></a></div>, <div class=\"innertitle\">\n",
      "<a class=\"text-darker\" href=\"https://www.vcsdata.com/company/elite-dental-clinic-bhubaneswar/137376.html\" target=\"_blank\"><h3 class=\"font-weight-semibold mt-1 mb-1\" itemprop=\"name\">Elite Dental Clinic Bhubaneswar \n",
      "</h3></a></div>, <div class=\"innertitle\">\n",
      "<a class=\"text-darker\" href=\"https://www.vcsdata.com/company/netram-eye-care-[dr-siddharth-malaiya]-–-best-ophthalmologist-|-eye-doctor-|-surgeon-|-cornea-specialist/137374.html\" target=\"_blank\"><h3 class=\"font-weight-semibold mt-1 mb-1\" itemprop=\"name\">Netram Eye Care [Dr. Siddharth Malaiya] – Best Ophthalmologist | Eye Doctor | surgeon | Cornea Specialist \n",
      "</h3></a></div>, <div class=\"innertitle\">\n",
      "<a class=\"text-darker\" href=\"https://www.vcsdata.com/company/jeev-an-ayurveda/137358.html\" target=\"_blank\"><h3 class=\"font-weight-semibold mt-1 mb-1\" itemprop=\"name\">JEEV AN AYURVEDA \n",
      "</h3></a></div>, <div class=\"innertitle\">\n",
      "<a class=\"text-darker\" href=\"https://www.vcsdata.com/company/hearing-for-life-pvt-ltd/137350.html\" target=\"_blank\"><h3 class=\"font-weight-semibold mt-1 mb-1\" itemprop=\"name\">Hearing For Life Pvt Ltd \n",
      "</h3></a></div>, <div class=\"innertitle\">\n",
      "<a class=\"text-darker\" href=\"https://www.vcsdata.com/company/best-knee-replacement-surgery-in-raipur-dr-pratik-dhabalia/137326.html\" target=\"_blank\"><h3 class=\"font-weight-semibold mt-1 mb-1\" itemprop=\"name\">Best Knee replacement surgery in Raipur - Dr. Pratik Dhabalia \n",
      "</h3></a></div>, <div class=\"innertitle\">\n",
      "<a class=\"text-darker\" href=\"https://www.vcsdata.com/company/recure-healthcare/137292.html\" target=\"_blank\"><h3 class=\"font-weight-semibold mt-1 mb-1\" itemprop=\"name\">Recure Healthcare \n",
      "</h3></a></div>, <div class=\"innertitle\">\n",
      "<a class=\"text-darker\" href=\"https://www.vcsdata.com/company/blue-bell-plus-hearing-aids-and-speech-therapy/137283.html\" target=\"_blank\"><h3 class=\"font-weight-semibold mt-1 mb-1\" itemprop=\"name\">Blue Bell Plus Hearing Aids And Speech Therapy \n",
      "</h3></a></div>, <div class=\"innertitle\">\n",
      "<a class=\"text-darker\" href=\"https://www.vcsdata.com/company/dr-hair-lotion/137257.html\" target=\"_blank\"><h3 class=\"font-weight-semibold mt-1 mb-1\" itemprop=\"name\">Dr Hair Lotion \n",
      "</h3></a></div>]\n"
     ]
    }
   ],
   "source": [
    "x=soup.find_all(class_='innertitle')\n",
    "print(x)"
   ]
  },
  {
   "cell_type": "code",
   "execution_count": 9,
   "id": "9e461e3b",
   "metadata": {},
   "outputs": [],
   "source": [
    "d_1=[]\n",
    "d_2=[]\n",
    "d_3=[]"
   ]
  },
  {
   "cell_type": "code",
   "execution_count": 10,
   "id": "8870e166",
   "metadata": {},
   "outputs": [
    {
     "name": "stdout",
     "output_type": "stream",
     "text": [
      "STEP IN PHYSIOTHERAPY \n",
      "\n",
      "Royal Massage Services \n",
      "\n",
      "Lifeberries Dental Clinic \n",
      "\n",
      "Tulasi Healthcare \n",
      "\n",
      "Elite Dental Clinic Bhubaneswar \n",
      "\n",
      "Netram Eye Care [Dr. Siddharth Malaiya] – Best Ophthalmologist | Eye Doctor | surgeon | Cornea Specialist \n",
      "\n",
      "JEEV AN AYURVEDA \n",
      "\n",
      "Hearing For Life Pvt Ltd \n",
      "\n",
      "Best Knee replacement surgery in Raipur - Dr. Pratik Dhabalia \n",
      "\n",
      "Recure Healthcare \n",
      "\n",
      "Blue Bell Plus Hearing Aids And Speech Therapy \n",
      "\n",
      "Dr Hair Lotion \n",
      "\n"
     ]
    }
   ],
   "source": [
    "for i in x:\n",
    "    h=i.find('h3')\n",
    "    d1=h.text\n",
    "    d_1.append(d1)\n",
    "    print(d1)"
   ]
  },
  {
   "cell_type": "code",
   "execution_count": 11,
   "id": "6777cd4e",
   "metadata": {},
   "outputs": [
    {
     "name": "stdout",
     "output_type": "stream",
     "text": [
      "[<div class=\"col-md-12 mb-2 mt-2\" itemprop=\"address\" itemscope=\"\" itemtype=\"http://schema.org/PostalAddress\"><span itemprop=\"streetAddress\">Address : G-155, Sector - 44 Noida, G B Nagar, UP</span></div>, <div class=\"col-md-12 mb-2 mt-2\" itemprop=\"address\" itemscope=\"\" itemtype=\"http://schema.org/PostalAddress\"><span itemprop=\"streetAddress\">Address : Juhu Tara</span></div>, <div class=\"col-md-12 mb-2 mt-2\" itemprop=\"address\" itemscope=\"\" itemtype=\"http://schema.org/PostalAddress\"><span itemprop=\"streetAddress\">Address : 4th Floor, 403, Town Square, Airport Rd, above Dorabjee’s VIP, behind Viman Nagar Road, Mhada Colony, Viman Nagar, Pune, Maharashtra 411014</span></div>, <div class=\"col-md-12 mb-2 mt-2\" itemprop=\"address\" itemscope=\"\" itemtype=\"http://schema.org/PostalAddress\"><span itemprop=\"streetAddress\">Address : Golf Course Extension Road, opposite M3M URBANA, next to Shriram millennium school, Sector 64, Gurugram, Haryan</span></div>, <div class=\"col-md-12 mb-2 mt-2\" itemprop=\"address\" itemscope=\"\" itemtype=\"http://schema.org/PostalAddress\"><span itemprop=\"streetAddress\">Address : Plot no. 511/2841, Phase-II, Kanan Vihar, Patia</span></div>, <div class=\"col-md-12 mb-2 mt-2\" itemprop=\"address\" itemscope=\"\" itemtype=\"http://schema.org/PostalAddress\"><span itemprop=\"streetAddress\">Address : Netram, Plot no. 335, 80 Feet Rd, Mandakini Colony, Kolar Rd, </span></div>, <div class=\"col-md-12 mb-2 mt-2\" itemprop=\"address\" itemscope=\"\" itemtype=\"http://schema.org/PostalAddress\"><span itemprop=\"streetAddress\">Address : Dharampur</span></div>, <div class=\"col-md-12 mb-2 mt-2\" itemprop=\"address\" itemscope=\"\" itemtype=\"http://schema.org/PostalAddress\"><span itemprop=\"streetAddress\">Address : 12, G/F ICICI Bank, C. V. Raman Marg, New friends colony, New Delhi- 110025</span></div>, <div class=\"col-md-12 mb-2 mt-2\" itemprop=\"address\" itemscope=\"\" itemtype=\"http://schema.org/PostalAddress\"><span itemprop=\"streetAddress\">Address : Beside Balgopal Hospital, In front of ashirwad bhavan</span></div>, <div class=\"col-md-12 mb-2 mt-2\" itemprop=\"address\" itemscope=\"\" itemtype=\"http://schema.org/PostalAddress\"><span itemprop=\"streetAddress\">Address : B-505 Jankalyan Apartment, Near Astron Cinema, Sardar Nagar Main Road,</span></div>, <div class=\"col-md-12 mb-2 mt-2\" itemprop=\"address\" itemscope=\"\" itemtype=\"http://schema.org/PostalAddress\"><span itemprop=\"streetAddress\">Address : Office No 109,First Floor, Abc Nirman Building, near Life Care Clinic, Gujar Nagar, Sai Colony, Thergaon, Pimpri-Chinchwad, Maharashtra 411033</span></div>, <div class=\"col-md-12 mb-2 mt-2\" itemprop=\"address\" itemscope=\"\" itemtype=\"http://schema.org/PostalAddress\"><span itemprop=\"streetAddress\">Address : 1-1-187/3/32, Vivek Nagar, Near More Super Market, Chikkadapally, Hyderabad,</span></div>]\n"
     ]
    }
   ],
   "source": [
    "a=soup.find_all(class_='col-md-12 mb-2 mt-2')\n",
    "print(a)"
   ]
  },
  {
   "cell_type": "code",
   "execution_count": 12,
   "id": "74802bc8",
   "metadata": {},
   "outputs": [
    {
     "name": "stdout",
     "output_type": "stream",
     "text": [
      "Address : G-155, Sector - 44 Noida, G B Nagar, UP\n",
      "Address : Juhu Tara\n",
      "Address : 4th Floor, 403, Town Square, Airport Rd, above Dorabjee’s VIP, behind Viman Nagar Road, Mhada Colony, Viman Nagar, Pune, Maharashtra 411014\n",
      "Address : Golf Course Extension Road, opposite M3M URBANA, next to Shriram millennium school, Sector 64, Gurugram, Haryan\n",
      "Address : Plot no. 511/2841, Phase-II, Kanan Vihar, Patia\n",
      "Address : Netram, Plot no. 335, 80 Feet Rd, Mandakini Colony, Kolar Rd, \n",
      "Address : Dharampur\n",
      "Address : 12, G/F ICICI Bank, C. V. Raman Marg, New friends colony, New Delhi- 110025\n",
      "Address : Beside Balgopal Hospital, In front of ashirwad bhavan\n",
      "Address : B-505 Jankalyan Apartment, Near Astron Cinema, Sardar Nagar Main Road,\n",
      "Address : Office No 109,First Floor, Abc Nirman Building, near Life Care Clinic, Gujar Nagar, Sai Colony, Thergaon, Pimpri-Chinchwad, Maharashtra 411033\n",
      "Address : 1-1-187/3/32, Vivek Nagar, Near More Super Market, Chikkadapally, Hyderabad,\n"
     ]
    }
   ],
   "source": [
    "for i in a:\n",
    "    a1=i.find('span')\n",
    "    d2=a1.text\n",
    "    d_2.append(d2)\n",
    "    print(d2)"
   ]
  },
  {
   "cell_type": "code",
   "execution_count": 13,
   "id": "71260e25",
   "metadata": {},
   "outputs": [
    {
     "name": "stdout",
     "output_type": "stream",
     "text": [
      "[<div class=\"col-md-6\"><span itemprop=\"addressLocality\">Noida</span> - <span itemprop=\"postalCode\">201301</span> - <span itemprop=\"addressCountry\">India</span> </div>, <div class=\"col-md-6\">Industry : Hospitals/Healthcare</div>, <div class=\"col-md-6\"><span itemprop=\"addressLocality\">Ahmednagar</span> - <span itemprop=\"postalCode\">400049</span> - <span itemprop=\"addressCountry\">India</span> </div>, <div class=\"col-md-6\">Industry : Hospitals/Healthcare</div>, <div class=\"col-md-6\"><span itemprop=\"addressLocality\">Pune</span> - <span itemprop=\"postalCode\">411014</span> - <span itemprop=\"addressCountry\">India</span> </div>, <div class=\"col-md-6\">Industry : Hospitals/Healthcare</div>, <div class=\"col-md-6\"><span itemprop=\"addressLocality\">Gurgaon</span> - <span itemprop=\"postalCode\">122102</span> - <span itemprop=\"addressCountry\">India</span> </div>, <div class=\"col-md-6\">Industry : Hospitals/Healthcare</div>, <div class=\"col-md-6\"><span itemprop=\"addressLocality\"></span> - <span itemprop=\"postalCode\">751024</span> - <span itemprop=\"addressCountry\">India</span> </div>, <div class=\"col-md-6\">Industry : Hospitals/Healthcare</div>, <div class=\"col-md-6\"><span itemprop=\"addressLocality\">Bhopal</span> - <span itemprop=\"postalCode\">462042</span> - <span itemprop=\"addressCountry\">India</span> </div>, <div class=\"col-md-6\">Industry : Hospitals/Healthcare</div>, <div class=\"col-md-6\"><span itemprop=\"addressLocality\">Baddi</span> - <span itemprop=\"postalCode\">173209</span> - <span itemprop=\"addressCountry\">India</span> </div>, <div class=\"col-md-6\">Industry : Hospitals/Healthcare</div>, <div class=\"col-md-6\"><span itemprop=\"addressLocality\">New delhi</span> - <span itemprop=\"postalCode\">110025</span> - <span itemprop=\"addressCountry\">India</span> </div>, <div class=\"col-md-6\">Industry : Hospitals/Healthcare</div>, <div class=\"col-md-6\"><span itemprop=\"addressLocality\">Chattisgarh</span> - <span itemprop=\"postalCode\">492001</span> - <span itemprop=\"addressCountry\">India</span> </div>, <div class=\"col-md-6\">Industry : Hospitals/Healthcare</div>, <div class=\"col-md-6\"><span itemprop=\"addressLocality\">Ahmedabad</span> - <span itemprop=\"postalCode\">360001</span> - <span itemprop=\"addressCountry\">India</span> </div>, <div class=\"col-md-6\">Industry : Hospitals/Healthcare</div>, <div class=\"col-md-6\"><span itemprop=\"addressLocality\">Pune</span> - <span itemprop=\"postalCode\">411033</span> - <span itemprop=\"addressCountry\">India</span> </div>, <div class=\"col-md-6\">Industry : Hospitals/Healthcare</div>, <div class=\"col-md-6\"><span itemprop=\"addressLocality\">Adilabad</span> - <span itemprop=\"postalCode\">500020</span> - <span itemprop=\"addressCountry\">India</span> </div>, <div class=\"col-md-6\">Industry : Hospitals/Healthcare</div>]\n"
     ]
    }
   ],
   "source": [
    "p=soup.find_all(class_='col-md-6')\n",
    "print(p)"
   ]
  },
  {
   "cell_type": "code",
   "execution_count": 14,
   "id": "e6edc15a",
   "metadata": {},
   "outputs": [
    {
     "name": "stdout",
     "output_type": "stream",
     "text": [
      "Noida - 201301 - India \n",
      "Industry : Hospitals/Healthcare\n",
      "Ahmednagar - 400049 - India \n",
      "Industry : Hospitals/Healthcare\n",
      "Pune - 411014 - India \n",
      "Industry : Hospitals/Healthcare\n",
      "Gurgaon - 122102 - India \n",
      "Industry : Hospitals/Healthcare\n",
      " - 751024 - India \n",
      "Industry : Hospitals/Healthcare\n",
      "Bhopal - 462042 - India \n",
      "Industry : Hospitals/Healthcare\n",
      "Baddi - 173209 - India \n",
      "Industry : Hospitals/Healthcare\n",
      "New delhi - 110025 - India \n",
      "Industry : Hospitals/Healthcare\n",
      "Chattisgarh - 492001 - India \n",
      "Industry : Hospitals/Healthcare\n",
      "Ahmedabad - 360001 - India \n",
      "Industry : Hospitals/Healthcare\n",
      "Pune - 411033 - India \n",
      "Industry : Hospitals/Healthcare\n",
      "Adilabad - 500020 - India \n",
      "Industry : Hospitals/Healthcare\n"
     ]
    }
   ],
   "source": [
    "for i in p:\n",
    "    i.get('Industry')\n",
    "    d3=i.text\n",
    "    d_3.append(d3)\n",
    "    print(d3)"
   ]
  },
  {
   "cell_type": "code",
   "execution_count": 15,
   "id": "ca04b6d2",
   "metadata": {},
   "outputs": [],
   "source": [
    "import pandas as pd"
   ]
  },
  {
   "cell_type": "code",
   "execution_count": 16,
   "id": "f76b66ee",
   "metadata": {},
   "outputs": [],
   "source": [
    "data=list(zip(d_1,d_2,d_3))"
   ]
  },
  {
   "cell_type": "code",
   "execution_count": 17,
   "id": "4b5d4491",
   "metadata": {},
   "outputs": [
    {
     "name": "stdout",
     "output_type": "stream",
     "text": [
      "                                         Company_Name  \\\n",
      "0                            STEP IN PHYSIOTHERAPY \\n   \n",
      "1                           Royal Massage Services \\n   \n",
      "2                        Lifeberries Dental Clinic \\n   \n",
      "3                                Tulasi Healthcare \\n   \n",
      "4                  Elite Dental Clinic Bhubaneswar \\n   \n",
      "5   Netram Eye Care [Dr. Siddharth Malaiya] – Best...   \n",
      "6                                 JEEV AN AYURVEDA \\n   \n",
      "7                         Hearing For Life Pvt Ltd \\n   \n",
      "8   Best Knee replacement surgery in Raipur - Dr. ...   \n",
      "9                                Recure Healthcare \\n   \n",
      "10  Blue Bell Plus Hearing Aids And Speech Therapy \\n   \n",
      "11                                  Dr Hair Lotion \\n   \n",
      "\n",
      "                                              Address  \\\n",
      "0   Address : G-155, Sector - 44 Noida, G B Nagar, UP   \n",
      "1                                 Address : Juhu Tara   \n",
      "2   Address : 4th Floor, 403, Town Square, Airport...   \n",
      "3   Address : Golf Course Extension Road, opposite...   \n",
      "4   Address : Plot no. 511/2841, Phase-II, Kanan V...   \n",
      "5   Address : Netram, Plot no. 335, 80 Feet Rd, Ma...   \n",
      "6                                 Address : Dharampur   \n",
      "7   Address : 12, G/F ICICI Bank, C. V. Raman Marg...   \n",
      "8   Address : Beside Balgopal Hospital, In front o...   \n",
      "9   Address : B-505 Jankalyan Apartment, Near Astr...   \n",
      "10  Address : Office No 109,First Floor, Abc Nirma...   \n",
      "11  Address : 1-1-187/3/32, Vivek Nagar, Near More...   \n",
      "\n",
      "                      Industry_Name  \n",
      "0           Noida - 201301 - India   \n",
      "1   Industry : Hospitals/Healthcare  \n",
      "2      Ahmednagar - 400049 - India   \n",
      "3   Industry : Hospitals/Healthcare  \n",
      "4            Pune - 411014 - India   \n",
      "5   Industry : Hospitals/Healthcare  \n",
      "6         Gurgaon - 122102 - India   \n",
      "7   Industry : Hospitals/Healthcare  \n",
      "8                 - 751024 - India   \n",
      "9   Industry : Hospitals/Healthcare  \n",
      "10         Bhopal - 462042 - India   \n",
      "11  Industry : Hospitals/Healthcare  \n"
     ]
    }
   ],
   "source": [
    "k=pd.DataFrame(data,columns=['Company_Name','Address','Industry_Name'])\n",
    "#k.index=['Company_Name','Address','Industry_Name']\n",
    "print(k)"
   ]
  },
  {
   "cell_type": "code",
   "execution_count": 23,
   "id": "24efce8d",
   "metadata": {},
   "outputs": [
    {
     "name": "stdout",
     "output_type": "stream",
     "text": [
      "                                         Company_Name  \\\n",
      "0                            STEP IN PHYSIOTHERAPY \\n   \n",
      "1                           Royal Massage Services \\n   \n",
      "2                        Lifeberries Dental Clinic \\n   \n",
      "3                                Tulasi Healthcare \\n   \n",
      "4                  Elite Dental Clinic Bhubaneswar \\n   \n",
      "5   Netram Eye Care [Dr. Siddharth Malaiya] – Best...   \n",
      "6                                 JEEV AN AYURVEDA \\n   \n",
      "7                         Hearing For Life Pvt Ltd \\n   \n",
      "8   Best Knee replacement surgery in Raipur - Dr. ...   \n",
      "9                                Recure Healthcare \\n   \n",
      "10  Blue Bell Plus Hearing Aids And Speech Therapy \\n   \n",
      "11                                  Dr Hair Lotion \\n   \n",
      "\n",
      "                                              Address  \\\n",
      "0   Address : G-155, Sector - 44 Noida, G B Nagar, UP   \n",
      "1                                 Address : Juhu Tara   \n",
      "2   Address : 4th Floor, 403, Town Square, Airport...   \n",
      "3   Address : Golf Course Extension Road, opposite...   \n",
      "4   Address : Plot no. 511/2841, Phase-II, Kanan V...   \n",
      "5   Address : Netram, Plot no. 335, 80 Feet Rd, Ma...   \n",
      "6                                 Address : Dharampur   \n",
      "7   Address : 12, G/F ICICI Bank, C. V. Raman Marg...   \n",
      "8   Address : Beside Balgopal Hospital, In front o...   \n",
      "9   Address : B-505 Jankalyan Apartment, Near Astr...   \n",
      "10  Address : Office No 109,First Floor, Abc Nirma...   \n",
      "11  Address : 1-1-187/3/32, Vivek Nagar, Near More...   \n",
      "\n",
      "                      Industry_Name  \n",
      "0           Noida - 201301 - India   \n",
      "1   Industry : Hospitals/Healthcare  \n",
      "2      Ahmednagar - 400049 - India   \n",
      "3   Industry : Hospitals/Healthcare  \n",
      "4            Pune - 411014 - India   \n",
      "5   Industry : Hospitals/Healthcare  \n",
      "6         Gurgaon - 122102 - India   \n",
      "7   Industry : Hospitals/Healthcare  \n",
      "8                 - 751024 - India   \n",
      "9   Industry : Hospitals/Healthcare  \n",
      "10         Bhopal - 462042 - India   \n",
      "11  Industry : Hospitals/Healthcare  \n"
     ]
    }
   ],
   "source": [
    "k.to_csv('project_data.csv')\n",
    "print(k)"
   ]
  },
  {
   "cell_type": "code",
   "execution_count": 24,
   "id": "f05d9975",
   "metadata": {},
   "outputs": [
    {
     "data": {
      "text/html": [
       "<div>\n",
       "<style scoped>\n",
       "    .dataframe tbody tr th:only-of-type {\n",
       "        vertical-align: middle;\n",
       "    }\n",
       "\n",
       "    .dataframe tbody tr th {\n",
       "        vertical-align: top;\n",
       "    }\n",
       "\n",
       "    .dataframe thead th {\n",
       "        text-align: right;\n",
       "    }\n",
       "</style>\n",
       "<table border=\"1\" class=\"dataframe\">\n",
       "  <thead>\n",
       "    <tr style=\"text-align: right;\">\n",
       "      <th></th>\n",
       "      <th>Company_Name</th>\n",
       "      <th>Address</th>\n",
       "      <th>Industry_Name</th>\n",
       "    </tr>\n",
       "  </thead>\n",
       "  <tbody>\n",
       "    <tr>\n",
       "      <th>0</th>\n",
       "      <td>STEP IN PHYSIOTHERAPY \\n</td>\n",
       "      <td>Address : G-155, Sector - 44 Noida, G B Nagar, UP</td>\n",
       "      <td>Noida - 201301 - India</td>\n",
       "    </tr>\n",
       "    <tr>\n",
       "      <th>1</th>\n",
       "      <td>Royal Massage Services \\n</td>\n",
       "      <td>Address : Juhu Tara</td>\n",
       "      <td>Industry : Hospitals/Healthcare</td>\n",
       "    </tr>\n",
       "    <tr>\n",
       "      <th>2</th>\n",
       "      <td>Lifeberries Dental Clinic \\n</td>\n",
       "      <td>Address : 4th Floor, 403, Town Square, Airport...</td>\n",
       "      <td>Ahmednagar - 400049 - India</td>\n",
       "    </tr>\n",
       "    <tr>\n",
       "      <th>3</th>\n",
       "      <td>Tulasi Healthcare \\n</td>\n",
       "      <td>Address : Golf Course Extension Road, opposite...</td>\n",
       "      <td>Industry : Hospitals/Healthcare</td>\n",
       "    </tr>\n",
       "    <tr>\n",
       "      <th>4</th>\n",
       "      <td>Elite Dental Clinic Bhubaneswar \\n</td>\n",
       "      <td>Address : Plot no. 511/2841, Phase-II, Kanan V...</td>\n",
       "      <td>Pune - 411014 - India</td>\n",
       "    </tr>\n",
       "    <tr>\n",
       "      <th>5</th>\n",
       "      <td>Netram Eye Care [Dr. Siddharth Malaiya] – Best...</td>\n",
       "      <td>Address : Netram, Plot no. 335, 80 Feet Rd, Ma...</td>\n",
       "      <td>Industry : Hospitals/Healthcare</td>\n",
       "    </tr>\n",
       "    <tr>\n",
       "      <th>6</th>\n",
       "      <td>JEEV AN AYURVEDA \\n</td>\n",
       "      <td>Address : Dharampur</td>\n",
       "      <td>Gurgaon - 122102 - India</td>\n",
       "    </tr>\n",
       "    <tr>\n",
       "      <th>7</th>\n",
       "      <td>Hearing For Life Pvt Ltd \\n</td>\n",
       "      <td>Address : 12, G/F ICICI Bank, C. V. Raman Marg...</td>\n",
       "      <td>Industry : Hospitals/Healthcare</td>\n",
       "    </tr>\n",
       "    <tr>\n",
       "      <th>8</th>\n",
       "      <td>Best Knee replacement surgery in Raipur - Dr. ...</td>\n",
       "      <td>Address : Beside Balgopal Hospital, In front o...</td>\n",
       "      <td>- 751024 - India</td>\n",
       "    </tr>\n",
       "    <tr>\n",
       "      <th>9</th>\n",
       "      <td>Recure Healthcare \\n</td>\n",
       "      <td>Address : B-505 Jankalyan Apartment, Near Astr...</td>\n",
       "      <td>Industry : Hospitals/Healthcare</td>\n",
       "    </tr>\n",
       "    <tr>\n",
       "      <th>10</th>\n",
       "      <td>Blue Bell Plus Hearing Aids And Speech Therapy \\n</td>\n",
       "      <td>Address : Office No 109,First Floor, Abc Nirma...</td>\n",
       "      <td>Bhopal - 462042 - India</td>\n",
       "    </tr>\n",
       "    <tr>\n",
       "      <th>11</th>\n",
       "      <td>Dr Hair Lotion \\n</td>\n",
       "      <td>Address : 1-1-187/3/32, Vivek Nagar, Near More...</td>\n",
       "      <td>Industry : Hospitals/Healthcare</td>\n",
       "    </tr>\n",
       "  </tbody>\n",
       "</table>\n",
       "</div>"
      ],
      "text/plain": [
       "                                         Company_Name  \\\n",
       "0                            STEP IN PHYSIOTHERAPY \\n   \n",
       "1                           Royal Massage Services \\n   \n",
       "2                        Lifeberries Dental Clinic \\n   \n",
       "3                                Tulasi Healthcare \\n   \n",
       "4                  Elite Dental Clinic Bhubaneswar \\n   \n",
       "5   Netram Eye Care [Dr. Siddharth Malaiya] – Best...   \n",
       "6                                 JEEV AN AYURVEDA \\n   \n",
       "7                         Hearing For Life Pvt Ltd \\n   \n",
       "8   Best Knee replacement surgery in Raipur - Dr. ...   \n",
       "9                                Recure Healthcare \\n   \n",
       "10  Blue Bell Plus Hearing Aids And Speech Therapy \\n   \n",
       "11                                  Dr Hair Lotion \\n   \n",
       "\n",
       "                                              Address  \\\n",
       "0   Address : G-155, Sector - 44 Noida, G B Nagar, UP   \n",
       "1                                 Address : Juhu Tara   \n",
       "2   Address : 4th Floor, 403, Town Square, Airport...   \n",
       "3   Address : Golf Course Extension Road, opposite...   \n",
       "4   Address : Plot no. 511/2841, Phase-II, Kanan V...   \n",
       "5   Address : Netram, Plot no. 335, 80 Feet Rd, Ma...   \n",
       "6                                 Address : Dharampur   \n",
       "7   Address : 12, G/F ICICI Bank, C. V. Raman Marg...   \n",
       "8   Address : Beside Balgopal Hospital, In front o...   \n",
       "9   Address : B-505 Jankalyan Apartment, Near Astr...   \n",
       "10  Address : Office No 109,First Floor, Abc Nirma...   \n",
       "11  Address : 1-1-187/3/32, Vivek Nagar, Near More...   \n",
       "\n",
       "                      Industry_Name  \n",
       "0           Noida - 201301 - India   \n",
       "1   Industry : Hospitals/Healthcare  \n",
       "2      Ahmednagar - 400049 - India   \n",
       "3   Industry : Hospitals/Healthcare  \n",
       "4            Pune - 411014 - India   \n",
       "5   Industry : Hospitals/Healthcare  \n",
       "6         Gurgaon - 122102 - India   \n",
       "7   Industry : Hospitals/Healthcare  \n",
       "8                 - 751024 - India   \n",
       "9   Industry : Hospitals/Healthcare  \n",
       "10         Bhopal - 462042 - India   \n",
       "11  Industry : Hospitals/Healthcare  "
      ]
     },
     "execution_count": 24,
     "metadata": {},
     "output_type": "execute_result"
    }
   ],
   "source": [
    "k.to_excel('vcs_Data.xlsx',index=True)\n",
    "k"
   ]
  },
  {
   "cell_type": "code",
   "execution_count": null,
   "id": "92615fd7",
   "metadata": {},
   "outputs": [],
   "source": []
  }
 ],
 "metadata": {
  "kernelspec": {
   "display_name": "Python 3 (ipykernel)",
   "language": "python",
   "name": "python3"
  },
  "language_info": {
   "codemirror_mode": {
    "name": "ipython",
    "version": 3
   },
   "file_extension": ".py",
   "mimetype": "text/x-python",
   "name": "python",
   "nbconvert_exporter": "python",
   "pygments_lexer": "ipython3",
   "version": "3.11.5"
  }
 },
 "nbformat": 4,
 "nbformat_minor": 5
}
